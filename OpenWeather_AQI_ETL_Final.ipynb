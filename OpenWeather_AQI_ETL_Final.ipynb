{
 "cells": [
  {
   "cell_type": "markdown",
   "id": "3a44de28",
   "metadata": {},
   "source": [
    "# ETL Code"
   ]
  },
  {
   "cell_type": "code",
   "execution_count": 2,
   "id": "b34779d0",
   "metadata": {},
   "outputs": [
    {
     "ename": "ModuleNotFoundError",
     "evalue": "No module named 'michelle_config'",
     "output_type": "error",
     "traceback": [
      "\u001b[0;31m---------------------------------------------------------------------------\u001b[0m",
      "\u001b[0;31mModuleNotFoundError\u001b[0m                       Traceback (most recent call last)",
      "\u001b[0;32m<ipython-input-2-c839a73fb76c>\u001b[0m in \u001b[0;36m<module>\u001b[0;34m\u001b[0m\n\u001b[1;32m      1\u001b[0m \u001b[0;31m# Importing dependencies\u001b[0m\u001b[0;34m\u001b[0m\u001b[0;34m\u001b[0m\u001b[0;34m\u001b[0m\u001b[0m\n\u001b[1;32m      2\u001b[0m \u001b[0;32mimport\u001b[0m \u001b[0mpandas\u001b[0m \u001b[0;32mas\u001b[0m \u001b[0mpd\u001b[0m\u001b[0;34m,\u001b[0m \u001b[0mrequests\u001b[0m\u001b[0;34m\u001b[0m\u001b[0;34m\u001b[0m\u001b[0m\n\u001b[0;32m----> 3\u001b[0;31m \u001b[0;32mfrom\u001b[0m \u001b[0mmichelle_config\u001b[0m \u001b[0;32mimport\u001b[0m \u001b[0mWEATHER_API_KEY\u001b[0m\u001b[0;34m\u001b[0m\u001b[0;34m\u001b[0m\u001b[0m\n\u001b[0m\u001b[1;32m      4\u001b[0m \u001b[0;32mimport\u001b[0m \u001b[0mtime\u001b[0m\u001b[0;34m\u001b[0m\u001b[0;34m\u001b[0m\u001b[0m\n\u001b[1;32m      5\u001b[0m \u001b[0;32mfrom\u001b[0m \u001b[0mdatetime\u001b[0m \u001b[0;32mimport\u001b[0m \u001b[0mdatetime\u001b[0m\u001b[0;34m\u001b[0m\u001b[0;34m\u001b[0m\u001b[0m\n",
      "\u001b[0;31mModuleNotFoundError\u001b[0m: No module named 'michelle_config'"
     ]
    }
   ],
   "source": [
    "# Importing dependencies\n",
    "import pandas as pd, requests\n",
    "from michelle_config import WEATHER_API_KEY\n",
    "import time\n",
    "from datetime import datetime"
   ]
  },
  {
   "cell_type": "code",
   "execution_count": null,
   "id": "2aa5b30e",
   "metadata": {},
   "outputs": [],
   "source": [
    "# Reading file containing latitudes and longitudes of all states\n",
    "states_df = pd.read_excel('Resources/All_States.xlsx')\n",
    "states_df.head()"
   ]
  },
  {
   "cell_type": "code",
   "execution_count": null,
   "id": "bbccd0e9",
   "metadata": {},
   "outputs": [],
   "source": [
    "# Selecting our 4 prefered states: AK, CA, DC and MA\n",
    "pref_states = states_df[states_df['state'].isin(['DC','CA','MA', 'AK'])]\n",
    "pref_states"
   ]
  },
  {
   "cell_type": "code",
   "execution_count": null,
   "id": "4ea306ad",
   "metadata": {},
   "outputs": [],
   "source": [
    "# Creating the urls of the 4 states\n",
    "# Start date set as 1606453200 or 11/27/20 5am (earliest historical data available in OpenWeather for AQI)\n",
    "# End date set as 1631336400 or 9/11/21 5am\n",
    "for index, row in pref_states.iterrows():\n",
    "    url = \"http://api.openweathermap.org/data/2.5/air_pollution/history?lat=\" + str(row[1]) + \"&lon=\" + str(row[2]) + \"&start=1606453200&end=1630468800\"  + \"&appid=\" + WEATHER_API_KEY\n",
    "    response = requests.get(url).json()\n",
    "    print(url)\n",
    "    # print(response)"
   ]
  },
  {
   "cell_type": "code",
   "execution_count": null,
   "id": "0206c173",
   "metadata": {},
   "outputs": [],
   "source": [
    "# Making get requests and creating json files for 4 states\n",
    "ak_data = requests.get('http://api.openweathermap.org/data/2.5/air_pollution/history?lat=63.588753&lon=-154.493062&start=1606453200&end=1630468800&appid=b4f0b753cb08149f9b346a17c5fb0ff7').json()\n",
    "ma_data = requests.get('http://api.openweathermap.org/data/2.5/air_pollution/history?lat=42.407211&lon=-71.382437&start=1606453200&end=1630468800&appid=b4f0b753cb08149f9b346a17c5fb0ff7').json()\n",
    "dc_data = requests.get('http://api.openweathermap.org/data/2.5/air_pollution/history?lat=38.905985&lon=-77.033418&start=1606453200&end=1630468800&appid=b4f0b753cb08149f9b346a17c5fb0ff7').json()\n",
    "ca_data = requests.get('http://api.openweathermap.org/data/2.5/air_pollution/history?lat=36.778261&lon=-119.417932&start=1606453200&end=1630468800&appid=b4f0b753cb08149f9b346a17c5fb0ff7').json()"
   ]
  },
  {
   "cell_type": "code",
   "execution_count": null,
   "id": "0486a129",
   "metadata": {},
   "outputs": [],
   "source": [
    "# Creating AK dataframe & converting time to correct format\n",
    "ak = pref_states.iloc[[0]]\n",
    "ak_frame = pd.json_normalize(ak_data,record_path=['list'])\n",
    "ak_frame['State'] = ak['state'].iloc[0]\n",
    "ak_frame['Lat'] = ak['latitude'].iloc[0]\n",
    "ak_frame['Long']= ak['longitude'].iloc[0]\n",
    "ak_frame['date']=[datetime.utcfromtimestamp(date).strftime('%Y-%m-%d %H:%M:%S') for date in ak_frame['dt']]\n",
    "ak_frame.head()"
   ]
  },
  {
   "cell_type": "code",
   "execution_count": null,
   "id": "b2dcd6b5",
   "metadata": {},
   "outputs": [],
   "source": [
    "# Creating CA dataframe & converting time to correct format\n",
    "ca = pref_states.iloc[[1]]\n",
    "ca_frame = pd.json_normalize(ca_data,record_path=['list'])\n",
    "ca_frame['State'] = ca['state'].iloc[0]\n",
    "ca_frame['Lat'] = ca['latitude'].iloc[0]\n",
    "ca_frame['Long']= ca['longitude'].iloc[0]\n",
    "ca_frame['date']=[datetime.utcfromtimestamp(date).strftime('%Y-%m-%d %H:%M:%S') for date in ca_frame['dt']]\n",
    "ca_frame.head()"
   ]
  },
  {
   "cell_type": "code",
   "execution_count": null,
   "id": "4ecaff56",
   "metadata": {},
   "outputs": [],
   "source": [
    "# Creating DC dataframe & converting time to correct format\n",
    "dc = pref_states.iloc[[2]]\n",
    "dc_frame = pd.json_normalize(dc_data,record_path=['list'])\n",
    "dc_frame['State'] = dc['state'].iloc[0]\n",
    "dc_frame['Lat'] = dc['latitude'].iloc[0]\n",
    "dc_frame['Long']= dc['longitude'].iloc[0]\n",
    "dc_frame['date']=[datetime.utcfromtimestamp(date).strftime('%Y-%m-%d %H:%M:%S') for date in dc_frame['dt']]\n",
    "dc_frame.head()"
   ]
  },
  {
   "cell_type": "code",
   "execution_count": null,
   "id": "6511007d",
   "metadata": {},
   "outputs": [],
   "source": [
    "# Creating MA dataframe & converting time to correct format\n",
    "ma = pref_states.iloc[[3]]\n",
    "ma_frame = pd.json_normalize(ma_data,record_path=['list'])\n",
    "ma_frame['State'] = ma['state'].iloc[0]\n",
    "ma_frame['Lat'] = ma['latitude'].iloc[0]\n",
    "ma_frame['Long']= ma['longitude'].iloc[0]\n",
    "ma_frame['date']=[datetime.utcfromtimestamp(date).strftime('%Y-%m-%d %H:%M:%S') for date in ma_frame['dt']]\n",
    "ma_frame.head()"
   ]
  },
  {
   "cell_type": "code",
   "execution_count": null,
   "id": "a9bd8a71",
   "metadata": {},
   "outputs": [],
   "source": [
    "# Combining all 4 dataframes \n",
    "AQI_data=pd.concat([ak_frame, dc_frame, ca_frame, ma_frame])\n",
    "AQI_data.columns"
   ]
  },
  {
   "cell_type": "code",
   "execution_count": null,
   "id": "6df4d3f4",
   "metadata": {},
   "outputs": [],
   "source": [
    "# Renaming columns\n",
    "AQI_data_Renamed = AQI_data.rename(columns = \n",
    "                {\"date\": \"Date\",\n",
    "                 \"State\": \"State\",\n",
    "                 \"Lat\": \"Latitude\",\n",
    "                 \"Long\": \"Longitude\",\n",
    "                 \"main.aqi\": \"AQI\",\n",
    "                 \"components.co\": \"CO\",\n",
    "                 \"components.no\": \"NO\",\n",
    "                 \"components.no2\": \"NO2\",\n",
    "                 \"components.o3\": \"O3\",\n",
    "                 \"components.so2\": \"SO2\",\n",
    "                 \"components.pm2_5\": \"PM2_5\",\n",
    "                 \"components.pm10\": \"PM10\",\n",
    "                 \"components.nh3\": \"NH3\",\n",
    "                 \"dt\": \"dt\"})\n",
    "AQI_data_Renamed.head()"
   ]
  },
  {
   "cell_type": "code",
   "execution_count": null,
   "id": "f36efe91",
   "metadata": {},
   "outputs": [],
   "source": [
    "# Reordering the columns\n",
    "AQI_data_Renamed = AQI_data_Renamed[[\"Date\",\n",
    "                                     \"State\",\n",
    "                                     \"Latitude\",\n",
    "                                     \"Longitude\",\n",
    "                                     \"AQI\",\n",
    "                                     \"CO\",\n",
    "                                     \"NO\",\n",
    "                                     \"NO2\",\n",
    "                                     \"O3\",\n",
    "                                     \"SO2\",\n",
    "                                     \"PM2_5\",\n",
    "                                     \"PM10\",\n",
    "                                     \"NH3\",\n",
    "                                     \"dt\"]]\n",
    "AQI_data_Renamed.head()"
   ]
  },
  {
   "cell_type": "code",
   "execution_count": null,
   "id": "735ec611",
   "metadata": {},
   "outputs": [],
   "source": [
    "# Converting & saving to a CSV file for visualization in Tableau and ML Model\n",
    "AQI_data_Renamed.to_csv('Resources/AQI_data.csv', index=False)"
   ]
  },
  {
   "cell_type": "code",
   "execution_count": null,
   "id": "7d34b94a",
   "metadata": {},
   "outputs": [],
   "source": [
    "# Converting & saving to a CSV file for ML Model Impact Testing While Scaled\n",
    "ma_frame.to_csv('Resources/MA_data.csv', index=False)\n",
    "dc_frame.to_csv('Resources/DC_data.csv', index=False)\n",
    "ak_frame.to_csv('Resources/AK_data.csv', index=False)\n",
    "ca_frame.to_csv('Resources/CA_data.csv', index=False)"
   ]
  },
  {
   "cell_type": "code",
   "execution_count": null,
   "id": "6008a374",
   "metadata": {},
   "outputs": [],
   "source": []
  }
 ],
 "metadata": {
  "kernelspec": {
   "display_name": "Python 3",
   "language": "python",
   "name": "python3"
  },
  "language_info": {
   "codemirror_mode": {
    "name": "ipython",
    "version": 3
   },
   "file_extension": ".py",
   "mimetype": "text/x-python",
   "name": "python",
   "nbconvert_exporter": "python",
   "pygments_lexer": "ipython3",
   "version": "3.7.10"
  }
 },
 "nbformat": 4,
 "nbformat_minor": 5
}
