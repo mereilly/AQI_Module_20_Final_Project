{
 "cells": [
  {
   "cell_type": "code",
   "execution_count": 1,
   "id": "d661f217",
   "metadata": {},
   "outputs": [
    {
     "ename": "AttributeError",
     "evalue": "'NoneType' object has no attribute 'replace'",
     "output_type": "error",
     "traceback": [
      "\u001b[0;31m---------------------------------------------------------------------------\u001b[0m",
      "\u001b[0;31mAttributeError\u001b[0m                            Traceback (most recent call last)",
      "\u001b[0;32m<ipython-input-1-517482b7a5b4>\u001b[0m in \u001b[0;36m<module>\u001b[0;34m\u001b[0m\n\u001b[1;32m     15\u001b[0m \u001b[0;31m# why-is-sqlalchemy-1-4-x-not-connecting-to-heroku-postgres)\u001b[0m\u001b[0;34m\u001b[0m\u001b[0;34m\u001b[0m\u001b[0;34m\u001b[0m\u001b[0m\n\u001b[1;32m     16\u001b[0m TARGET_DATABASE_URL = (\n\u001b[0;32m---> 17\u001b[0;31m     \u001b[0mos\u001b[0m\u001b[0;34m.\u001b[0m\u001b[0menviron\u001b[0m\u001b[0;34m.\u001b[0m\u001b[0mget\u001b[0m\u001b[0;34m(\u001b[0m\u001b[0;34m'DATABASE_URL'\u001b[0m\u001b[0;34m)\u001b[0m\u001b[0;34m\u001b[0m\u001b[0;34m\u001b[0m\u001b[0m\n\u001b[0m\u001b[1;32m     18\u001b[0m     \u001b[0;34m.\u001b[0m\u001b[0mreplace\u001b[0m\u001b[0;34m(\u001b[0m\u001b[0;34m'postgres://'\u001b[0m\u001b[0;34m,\u001b[0m \u001b[0;34m'postgresql://'\u001b[0m\u001b[0;34m,\u001b[0m \u001b[0;36m1\u001b[0m\u001b[0;34m)\u001b[0m\u001b[0;34m\u001b[0m\u001b[0;34m\u001b[0m\u001b[0m\n\u001b[1;32m     19\u001b[0m     )\n",
      "\u001b[0;31mAttributeError\u001b[0m: 'NoneType' object has no attribute 'replace'"
     ]
    }
   ],
   "source": [
    "import os\n",
    "\n",
    "import pandas as pd\n",
    "from sqlalchemy import create_engine\n",
    "\n",
    "# Use one or the other:\n",
    "SOURCE_PATH = 'etl/pets.csv'\n",
    "# SOURCE_PATH = 'sqlite:///etl/pets.sqlite'\n",
    "\n",
    "TABLE_NAME = 'pets'\n",
    "INDEX_COLUMN = 'id'\n",
    "SOURCE_SQL = f\"SELECT * FROM {TABLE_NAME};\"\n",
    "\n",
    "# (https://help.heroku.com/ZKNTJQSK/\n",
    "# why-is-sqlalchemy-1-4-x-not-connecting-to-heroku-postgres)\n",
    "TARGET_DATABASE_URL = (\n",
    "    os.environ.get('DATABASE_URL')\n",
    "    .replace('postgres://', 'postgresql://', 1)\n",
    "    )\n",
    "\n",
    "\n",
    "# Read source data\n",
    "def read_source(source_path):\n",
    "    if source_path.startswith('sqlite'):\n",
    "        source_engine = create_engine(source_path)\n",
    "        source_conn = source_engine.connect()\n",
    "        source_df = pd.read_sql(\n",
    "            TABLE_NAME, source_conn, index_col=INDEX_COLUMN)\n",
    "\n",
    "    elif source_path.lower().endswith('csv'):\n",
    "        source_df = pd.read_csv(source_path)\n",
    "\n",
    "    else:\n",
    "        raise TypeError(\"Unsupported file format\")\n",
    "\n",
    "    return source_df\n",
    "\n",
    "\n",
    "# Create the table\n",
    "def write_target(source_df):\n",
    "    target_engine = create_engine(TARGET_DATABASE_URL)\n",
    "    target_conn = target_engine.connect()\n",
    "    source_df.to_sql(TABLE_NAME, target_conn, if_exists='replace')\n",
    "\n",
    "    # sqlalchemy will not detect table without PK. This seems to be the best\n",
    "    # solution (https://stackoverflow.com/q/50469391)\n",
    "    target_engine.execute(\n",
    "        f'ALTER TABLE {TABLE_NAME} ADD PRIMARY KEY ({INDEX_COLUMN});')\n",
    "\n",
    "\n",
    "if __name__ == '__main__':\n",
    "    source_data = read_source(SOURCE_PATH)\n",
    "    write_target(source_data)"
   ]
  },
  {
   "cell_type": "code",
   "execution_count": null,
   "id": "7bb90da0",
   "metadata": {},
   "outputs": [],
   "source": []
  }
 ],
 "metadata": {
  "kernelspec": {
   "display_name": "mlenv",
   "language": "python",
   "name": "mlenv"
  },
  "language_info": {
   "codemirror_mode": {
    "name": "ipython",
    "version": 3
   },
   "file_extension": ".py",
   "mimetype": "text/x-python",
   "name": "python",
   "nbconvert_exporter": "python",
   "pygments_lexer": "ipython3",
   "version": "3.8.8"
  }
 },
 "nbformat": 4,
 "nbformat_minor": 5
}
