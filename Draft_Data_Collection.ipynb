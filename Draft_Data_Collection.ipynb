{
 "cells": [
  {
   "cell_type": "code",
   "execution_count": 1,
   "id": "1508788e",
   "metadata": {},
   "outputs": [
    {
     "name": "stdout",
     "output_type": "stream",
     "text": [
      "/Users/michelle/gwu2/hw/Module_20_Final_Project\r\n"
     ]
    }
   ],
   "source": [
    "!pwd"
   ]
  },
  {
   "cell_type": "code",
   "execution_count": 2,
   "id": "303e59ee",
   "metadata": {},
   "outputs": [
    {
     "name": "stdout",
     "output_type": "stream",
     "text": [
      "Book1.xlsx                           Untitled.ipynb\r\n",
      "Final_Project_Weather_API_Test.ipynb Untitled1.ipynb\r\n",
      "README.md                            ~$Book1.xlsx\r\n"
     ]
    }
   ],
   "source": [
    "!ls "
   ]
  },
  {
   "cell_type": "code",
   "execution_count": 15,
   "id": "20d7d50e",
   "metadata": {},
   "outputs": [],
   "source": [
    "import pandas as pd, requests\n",
    "WEATHER_API_KEY = \"b4f0b753cb08149f9b346a17c5fb0ff7\""
   ]
  },
  {
   "cell_type": "code",
   "execution_count": 4,
   "id": "8da34347",
   "metadata": {},
   "outputs": [
    {
     "data": {
      "text/html": [
       "<div>\n",
       "<style scoped>\n",
       "    .dataframe tbody tr th:only-of-type {\n",
       "        vertical-align: middle;\n",
       "    }\n",
       "\n",
       "    .dataframe tbody tr th {\n",
       "        vertical-align: top;\n",
       "    }\n",
       "\n",
       "    .dataframe thead th {\n",
       "        text-align: right;\n",
       "    }\n",
       "</style>\n",
       "<table border=\"1\" class=\"dataframe\">\n",
       "  <thead>\n",
       "    <tr style=\"text-align: right;\">\n",
       "      <th></th>\n",
       "      <th>state</th>\n",
       "      <th>latitude</th>\n",
       "      <th>longitude</th>\n",
       "      <th>name</th>\n",
       "    </tr>\n",
       "  </thead>\n",
       "  <tbody>\n",
       "    <tr>\n",
       "      <th>0</th>\n",
       "      <td>AK</td>\n",
       "      <td>63.588753</td>\n",
       "      <td>-154.493062</td>\n",
       "      <td>Alaska</td>\n",
       "    </tr>\n",
       "    <tr>\n",
       "      <th>1</th>\n",
       "      <td>AL</td>\n",
       "      <td>32.318231</td>\n",
       "      <td>-86.902298</td>\n",
       "      <td>Alabama</td>\n",
       "    </tr>\n",
       "    <tr>\n",
       "      <th>2</th>\n",
       "      <td>AR</td>\n",
       "      <td>35.201050</td>\n",
       "      <td>-91.831833</td>\n",
       "      <td>Arkansas</td>\n",
       "    </tr>\n",
       "    <tr>\n",
       "      <th>3</th>\n",
       "      <td>AZ</td>\n",
       "      <td>34.048928</td>\n",
       "      <td>-111.093731</td>\n",
       "      <td>Arizona</td>\n",
       "    </tr>\n",
       "    <tr>\n",
       "      <th>4</th>\n",
       "      <td>CA</td>\n",
       "      <td>36.778261</td>\n",
       "      <td>-119.417932</td>\n",
       "      <td>California</td>\n",
       "    </tr>\n",
       "  </tbody>\n",
       "</table>\n",
       "</div>"
      ],
      "text/plain": [
       "  state   latitude   longitude        name\n",
       "0    AK  63.588753 -154.493062      Alaska\n",
       "1    AL  32.318231  -86.902298     Alabama\n",
       "2    AR  35.201050  -91.831833    Arkansas\n",
       "3    AZ  34.048928 -111.093731     Arizona\n",
       "4    CA  36.778261 -119.417932  California"
      ]
     },
     "execution_count": 4,
     "metadata": {},
     "output_type": "execute_result"
    }
   ],
   "source": [
    "location_df = pd.read_excel('Book1.xlsx')\n",
    "location_df.head()"
   ]
  },
  {
   "cell_type": "code",
   "execution_count": 8,
   "id": "7cd5c806",
   "metadata": {},
   "outputs": [
    {
     "data": {
      "text/html": [
       "<div>\n",
       "<style scoped>\n",
       "    .dataframe tbody tr th:only-of-type {\n",
       "        vertical-align: middle;\n",
       "    }\n",
       "\n",
       "    .dataframe tbody tr th {\n",
       "        vertical-align: top;\n",
       "    }\n",
       "\n",
       "    .dataframe thead th {\n",
       "        text-align: right;\n",
       "    }\n",
       "</style>\n",
       "<table border=\"1\" class=\"dataframe\">\n",
       "  <thead>\n",
       "    <tr style=\"text-align: right;\">\n",
       "      <th></th>\n",
       "      <th>state</th>\n",
       "      <th>latitude</th>\n",
       "      <th>longitude</th>\n",
       "      <th>name</th>\n",
       "    </tr>\n",
       "  </thead>\n",
       "  <tbody>\n",
       "    <tr>\n",
       "      <th>4</th>\n",
       "      <td>CA</td>\n",
       "      <td>36.778261</td>\n",
       "      <td>-119.417932</td>\n",
       "      <td>California</td>\n",
       "    </tr>\n",
       "    <tr>\n",
       "      <th>7</th>\n",
       "      <td>DC</td>\n",
       "      <td>38.905985</td>\n",
       "      <td>-77.033418</td>\n",
       "      <td>District of Columbia</td>\n",
       "    </tr>\n",
       "    <tr>\n",
       "      <th>19</th>\n",
       "      <td>MA</td>\n",
       "      <td>42.407211</td>\n",
       "      <td>-71.382437</td>\n",
       "      <td>Massachusetts</td>\n",
       "    </tr>\n",
       "  </tbody>\n",
       "</table>\n",
       "</div>"
      ],
      "text/plain": [
       "   state   latitude   longitude                  name\n",
       "4     CA  36.778261 -119.417932            California\n",
       "7     DC  38.905985  -77.033418  District of Columbia\n",
       "19    MA  42.407211  -71.382437         Massachusetts"
      ]
     },
     "execution_count": 8,
     "metadata": {},
     "output_type": "execute_result"
    }
   ],
   "source": [
    "pref = location_df[location_df['state'].isin(['DC','CA','MA'])]\n",
    "pref"
   ]
  },
  {
   "cell_type": "code",
   "execution_count": 18,
   "id": "c151c677",
   "metadata": {},
   "outputs": [
    {
     "name": "stdout",
     "output_type": "stream",
     "text": [
      "http://api.openweathermap.org/data/2.5/air_pollution/history?lat=36.778261&lon=-119.417932&start=1606453200&end=1630468800&appid=b4f0b753cb08149f9b346a17c5fb0ff7 \n",
      " <Response [200]>\n",
      "http://api.openweathermap.org/data/2.5/air_pollution/history?lat=38.905985&lon=-77.033418&start=1606453200&end=1630468800&appid=b4f0b753cb08149f9b346a17c5fb0ff7 \n",
      " <Response [200]>\n",
      "http://api.openweathermap.org/data/2.5/air_pollution/history?lat=42.407211&lon=-71.382437&start=1606453200&end=1630468800&appid=b4f0b753cb08149f9b346a17c5fb0ff7 \n",
      " <Response [200]>\n"
     ]
    }
   ],
   "source": [
    "# create an empty dataframe\n",
    "for index, row in pref.iterrows():\n",
    "    DC_url = \"http://api.openweathermap.org/data/2.5/air_pollution/history?lat=\" + str(row[1]) + \"&lon=\" + str(row[2]) + \"&start=1606453200&end=1630468800\"  + \"&appid=\" + WEATHER_API_KEY\n",
    "    response = requests.get(DC_url)\n",
    "#     pull data from response\n",
    "# add your state and name and lat from the iterrows\n",
    "# have all the data add to the empty dataframe\n",
    "#     print(f'{DC_url} \\n {response}')"
   ]
  },
  {
   "cell_type": "code",
   "execution_count": 22,
   "id": "84762750",
   "metadata": {},
   "outputs": [],
   "source": [
    "sample_req = requests.get('http://api.openweathermap.org/data/2.5/air_pollution/history?lat=42.407211&lon=-71.382437&start=1606453200&end=1630468800&appid=b4f0b753cb08149f9b346a17c5fb0ff7').json()\n"
   ]
  },
  {
   "cell_type": "code",
   "execution_count": 33,
   "id": "988299e7",
   "metadata": {},
   "outputs": [
    {
     "data": {
      "text/html": [
       "<div>\n",
       "<style scoped>\n",
       "    .dataframe tbody tr th:only-of-type {\n",
       "        vertical-align: middle;\n",
       "    }\n",
       "\n",
       "    .dataframe tbody tr th {\n",
       "        vertical-align: top;\n",
       "    }\n",
       "\n",
       "    .dataframe thead th {\n",
       "        text-align: right;\n",
       "    }\n",
       "</style>\n",
       "<table border=\"1\" class=\"dataframe\">\n",
       "  <thead>\n",
       "    <tr style=\"text-align: right;\">\n",
       "      <th></th>\n",
       "      <th>state</th>\n",
       "      <th>latitude</th>\n",
       "      <th>longitude</th>\n",
       "      <th>name</th>\n",
       "    </tr>\n",
       "  </thead>\n",
       "  <tbody>\n",
       "    <tr>\n",
       "      <th>19</th>\n",
       "      <td>MA</td>\n",
       "      <td>42.407211</td>\n",
       "      <td>-71.382437</td>\n",
       "      <td>Massachusetts</td>\n",
       "    </tr>\n",
       "  </tbody>\n",
       "</table>\n",
       "</div>"
      ],
      "text/plain": [
       "   state   latitude  longitude           name\n",
       "19    MA  42.407211 -71.382437  Massachusetts"
      ]
     },
     "execution_count": 33,
     "metadata": {},
     "output_type": "execute_result"
    }
   ],
   "source": [
    "ma = pref.iloc[[2]]\n",
    "ma\n"
   ]
  },
  {
   "cell_type": "code",
   "execution_count": 41,
   "id": "845fd65b",
   "metadata": {},
   "outputs": [],
   "source": [
    "frame = pd.json_normalize(sample_req,record_path=['list'])\n",
    "frame['State'] = ma['state'].iloc[0]\n",
    "frame['Lat'] = ma['latitude'].iloc[0]\n"
   ]
  },
  {
   "cell_type": "code",
   "execution_count": 42,
   "id": "ef0e630c",
   "metadata": {},
   "outputs": [
    {
     "data": {
      "text/html": [
       "<div>\n",
       "<style scoped>\n",
       "    .dataframe tbody tr th:only-of-type {\n",
       "        vertical-align: middle;\n",
       "    }\n",
       "\n",
       "    .dataframe tbody tr th {\n",
       "        vertical-align: top;\n",
       "    }\n",
       "\n",
       "    .dataframe thead th {\n",
       "        text-align: right;\n",
       "    }\n",
       "</style>\n",
       "<table border=\"1\" class=\"dataframe\">\n",
       "  <thead>\n",
       "    <tr style=\"text-align: right;\">\n",
       "      <th></th>\n",
       "      <th>dt</th>\n",
       "      <th>main.aqi</th>\n",
       "      <th>components.co</th>\n",
       "      <th>components.no</th>\n",
       "      <th>components.no2</th>\n",
       "      <th>components.o3</th>\n",
       "      <th>components.so2</th>\n",
       "      <th>components.pm2_5</th>\n",
       "      <th>components.pm10</th>\n",
       "      <th>components.nh3</th>\n",
       "      <th>State</th>\n",
       "      <th>Lat</th>\n",
       "    </tr>\n",
       "  </thead>\n",
       "  <tbody>\n",
       "    <tr>\n",
       "      <th>0</th>\n",
       "      <td>1606453200</td>\n",
       "      <td>1</td>\n",
       "      <td>367.17</td>\n",
       "      <td>0.53</td>\n",
       "      <td>25.36</td>\n",
       "      <td>4.65</td>\n",
       "      <td>0.31</td>\n",
       "      <td>5.44</td>\n",
       "      <td>6.72</td>\n",
       "      <td>0.14</td>\n",
       "      <td>MA</td>\n",
       "      <td>42.407211</td>\n",
       "    </tr>\n",
       "    <tr>\n",
       "      <th>1</th>\n",
       "      <td>1606456800</td>\n",
       "      <td>1</td>\n",
       "      <td>357.15</td>\n",
       "      <td>0.29</td>\n",
       "      <td>22.96</td>\n",
       "      <td>5.01</td>\n",
       "      <td>0.26</td>\n",
       "      <td>4.91</td>\n",
       "      <td>5.87</td>\n",
       "      <td>0.08</td>\n",
       "      <td>MA</td>\n",
       "      <td>42.407211</td>\n",
       "    </tr>\n",
       "    <tr>\n",
       "      <th>2</th>\n",
       "      <td>1606460400</td>\n",
       "      <td>1</td>\n",
       "      <td>330.45</td>\n",
       "      <td>0.09</td>\n",
       "      <td>18.34</td>\n",
       "      <td>8.14</td>\n",
       "      <td>0.22</td>\n",
       "      <td>4.14</td>\n",
       "      <td>4.91</td>\n",
       "      <td>0.06</td>\n",
       "      <td>MA</td>\n",
       "      <td>42.407211</td>\n",
       "    </tr>\n",
       "    <tr>\n",
       "      <th>3</th>\n",
       "      <td>1606464000</td>\n",
       "      <td>1</td>\n",
       "      <td>297.07</td>\n",
       "      <td>0.04</td>\n",
       "      <td>12.85</td>\n",
       "      <td>12.52</td>\n",
       "      <td>0.21</td>\n",
       "      <td>3.40</td>\n",
       "      <td>4.01</td>\n",
       "      <td>0.04</td>\n",
       "      <td>MA</td>\n",
       "      <td>42.407211</td>\n",
       "    </tr>\n",
       "    <tr>\n",
       "      <th>4</th>\n",
       "      <td>1606467600</td>\n",
       "      <td>1</td>\n",
       "      <td>277.04</td>\n",
       "      <td>0.02</td>\n",
       "      <td>9.17</td>\n",
       "      <td>15.74</td>\n",
       "      <td>0.24</td>\n",
       "      <td>2.91</td>\n",
       "      <td>3.41</td>\n",
       "      <td>0.04</td>\n",
       "      <td>MA</td>\n",
       "      <td>42.407211</td>\n",
       "    </tr>\n",
       "  </tbody>\n",
       "</table>\n",
       "</div>"
      ],
      "text/plain": [
       "           dt  main.aqi  components.co  components.no  components.no2  \\\n",
       "0  1606453200         1         367.17           0.53           25.36   \n",
       "1  1606456800         1         357.15           0.29           22.96   \n",
       "2  1606460400         1         330.45           0.09           18.34   \n",
       "3  1606464000         1         297.07           0.04           12.85   \n",
       "4  1606467600         1         277.04           0.02            9.17   \n",
       "\n",
       "   components.o3  components.so2  components.pm2_5  components.pm10  \\\n",
       "0           4.65            0.31              5.44             6.72   \n",
       "1           5.01            0.26              4.91             5.87   \n",
       "2           8.14            0.22              4.14             4.91   \n",
       "3          12.52            0.21              3.40             4.01   \n",
       "4          15.74            0.24              2.91             3.41   \n",
       "\n",
       "   components.nh3 State        Lat  \n",
       "0            0.14    MA  42.407211  \n",
       "1            0.08    MA  42.407211  \n",
       "2            0.06    MA  42.407211  \n",
       "3            0.04    MA  42.407211  \n",
       "4            0.04    MA  42.407211  "
      ]
     },
     "execution_count": 42,
     "metadata": {},
     "output_type": "execute_result"
    }
   ],
   "source": [
    "frame.head()"
   ]
  },
  {
   "cell_type": "code",
   "execution_count": null,
   "id": "f046beae",
   "metadata": {},
   "outputs": [],
   "source": [
    "#datacollection put into DB \n",
    "#PostgresSQL\n",
    "#linked to database to ML model "
   ]
  }
 ],
 "metadata": {
  "kernelspec": {
   "display_name": "Python 3",
   "language": "python",
   "name": "python3"
  },
  "language_info": {
   "codemirror_mode": {
    "name": "ipython",
    "version": 3
   },
   "file_extension": ".py",
   "mimetype": "text/x-python",
   "name": "python",
   "nbconvert_exporter": "python",
   "pygments_lexer": "ipython3",
   "version": "3.8.8"
  }
 },
 "nbformat": 4,
 "nbformat_minor": 5
}
